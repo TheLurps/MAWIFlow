{
 "cells": [
  {
   "cell_type": "code",
   "execution_count": 35,
   "id": "179159f6",
   "metadata": {
    "jupyter": {
     "source_hidden": true
    }
   },
   "outputs": [],
   "source": [
    "# /// script\n",
    "# requires-python = \">=3.12\"\n",
    "# dependencies = [\n",
    "#     \"duckdb\",\n",
    "#     \"polars\",\n",
    "#     \"pyarrow\",\n",
    "# ]\n",
    "#\n",
    "# [tool.uv]\n",
    "# exclude-newer = \"2025-04-04T15:57:31.848989629+02:00\"\n",
    "# ///"
   ]
  },
  {
   "cell_type": "code",
   "execution_count": 36,
   "id": "3acc209c",
   "metadata": {},
   "outputs": [],
   "source": [
    "import duckdb\n",
    "import polars as pl"
   ]
  },
  {
   "cell_type": "code",
   "execution_count": 37,
   "id": "0c3bd6b0",
   "metadata": {},
   "outputs": [
    {
     "data": {
      "text/plain": [
       "┌───────────────┐\n",
       "│     name      │\n",
       "│    varchar    │\n",
       "├───────────────┤\n",
       "│ anomalous     │\n",
       "│ anomalous_csv │\n",
       "│ anomalous_xml │\n",
       "│ notice        │\n",
       "│ notice_csv    │\n",
       "│ notice_xml    │\n",
       "└───────────────┘"
      ]
     },
     "execution_count": 37,
     "metadata": {},
     "output_type": "execute_result"
    }
   ],
   "source": [
    "duckdb.sql(\"\"\"\n",
    "CREATE OR REPLACE TABLE anomalous_csv AS\n",
    "    FROM '../20210103_anomalous_suspicious.csv.parquet';\n",
    "CREATE OR REPLACE TABLE anomalous_xml AS\n",
    "    FROM '../20210103_anomalous_suspicious.xml.parquet';\n",
    "CREATE OR REPLACE TABLE notice_csv AS\n",
    "    FROM '../20210103_notice.csv.parquet';\n",
    "CREATE OR REPLACE TABLE notice_xml AS\n",
    "    FROM '../20210103_notice.xml.parquet';\n",
    "SHOW TABLES;\n",
    "\"\"\")"
   ]
  },
  {
   "cell_type": "code",
   "execution_count": 38,
   "id": "2643da89",
   "metadata": {},
   "outputs": [
    {
     "data": {
      "text/plain": [
       "┌────────────┬────────────────┬──────────┬─────────────────┬──────────┬─────────────┬───────────┬───────────┬───────────┬──────────┐\n",
       "│ anomaly_id │     src_ip     │ src_port │     dst_ip      │ dst_port │  taxonomy   │ heuristic │ detectors │   label   │ distance │\n",
       "│   uint16   │    varchar     │  uint16  │     varchar     │  uint16  │   varchar   │  double   │   uint8   │  varchar  │  double  │\n",
       "├────────────┼────────────────┼──────────┼─────────────────┼──────────┼─────────────┼───────────┼───────────┼───────────┼──────────┤\n",
       "│          0 │ 77.27.92.100   │     5072 │ 202.65.57.232   │     NULL │ ptpposcaUDP │   0.72041 │        10 │ anomalous │     NULL │\n",
       "│          1 │ 203.178.149.55 │     NULL │ 206.215.228.128 │     NULL │ ipv4gretun  │   0.35983 │         6 │ anomalous │     NULL │\n",
       "│          1 │ 203.178.149.55 │     NULL │ 204.167.201.110 │     NULL │ ipv4gretun  │   0.35983 │         6 │ anomalous │     NULL │\n",
       "│          2 │ NULL           │      443 │ 163.218.81.24   │     NULL │ mptpla      │    0.3209 │         5 │ anomalous │     NULL │\n",
       "│          3 │ NULL           │      443 │ 163.218.101.211 │     NULL │ mptp        │   0.12564 │         4 │ anomalous │     NULL │\n",
       "└────────────┴────────────────┴──────────┴─────────────────┴──────────┴─────────────┴───────────┴───────────┴───────────┴──────────┘"
      ]
     },
     "execution_count": 38,
     "metadata": {},
     "output_type": "execute_result"
    }
   ],
   "source": [
    "duckdb.sql(\"\"\"\n",
    "SELECT *\n",
    "FROM anomalous_csv LIMIT 5;\n",
    "\"\"\")"
   ]
  },
  {
   "cell_type": "code",
   "execution_count": 39,
   "id": "67587354",
   "metadata": {},
   "outputs": [
    {
     "data": {
      "text/plain": [
       "┌────────────┬───────────┬────────┬────────┬────────────────┬──────────┬─────────────────┬──────────┬─────────┐\n",
       "│ anomaly_id │   label   │ start  │  stop  │     src_ip     │ src_port │     dst_ip      │ dst_port │  proto  │\n",
       "│   uint16   │  varchar  │ uint32 │ uint32 │    varchar     │ varchar  │     varchar     │  uint16  │ varchar │\n",
       "├────────────┼───────────┼────────┼────────┼────────────────┼──────────┼─────────────────┼──────────┼─────────┤\n",
       "│          0 │ anomalous │   NULL │   NULL │ 77.27.92.100   │ 5072     │ 202.65.57.232   │     NULL │ NULL    │\n",
       "│          1 │ anomalous │   NULL │   NULL │ 203.178.149.55 │ NULL     │ 206.215.228.128 │     NULL │ NULL    │\n",
       "│          1 │ anomalous │   NULL │   NULL │ 203.178.149.55 │ NULL     │ 204.167.201.110 │     NULL │ NULL    │\n",
       "│          2 │ anomalous │   NULL │   NULL │ NULL           │ 443      │ 163.218.81.24   │     NULL │ NULL    │\n",
       "│          3 │ anomalous │   NULL │   NULL │ NULL           │ 443      │ 163.218.101.211 │     NULL │ NULL    │\n",
       "└────────────┴───────────┴────────┴────────┴────────────────┴──────────┴─────────────────┴──────────┴─────────┘"
      ]
     },
     "execution_count": 39,
     "metadata": {},
     "output_type": "execute_result"
    }
   ],
   "source": [
    "duckdb.sql(\"\"\"\n",
    "SELECT *\n",
    "FROM anomalous_xml LIMIT 5;\n",
    "\"\"\")"
   ]
  },
  {
   "cell_type": "code",
   "execution_count": 40,
   "id": "398f93cd",
   "metadata": {},
   "outputs": [],
   "source": [
    "duckdb.sql(\"\"\"\n",
    "CREATE OR REPLACE TABLE anomalous AS\n",
    "\n",
    "WITH xml AS (\n",
    "  SELECT ROW_NUMBER() OVER () AS rn, * FROM anomalous_xml\n",
    "),\n",
    "csv AS (\n",
    "  SELECT *, ROW_NUMBER() OVER () AS rn FROM anomalous_csv\n",
    ")\n",
    "\n",
    "SELECT xml.*, csv.taxonomy, csv.heuristic, csv.detectors, csv.distance\n",
    "FROM xml\n",
    "JOIN csv ON xml.rn = csv.rn;\n",
    "\"\"\")"
   ]
  },
  {
   "cell_type": "code",
   "execution_count": 41,
   "id": "83da6e7b",
   "metadata": {
    "vscode": {
     "languageId": "sql"
    }
   },
   "outputs": [],
   "source": [
    "duckdb.sql(\"\"\"\n",
    "CREATE OR REPLACE TABLE notice AS\n",
    "\n",
    "WITH xml AS (\n",
    "  SELECT ROW_NUMBER() OVER () AS rn, * FROM notice_xml\n",
    "),\n",
    "csv AS (\n",
    "  SELECT *, ROW_NUMBER() OVER () AS rn FROM notice_csv\n",
    ")\n",
    "\n",
    "SELECT xml.*, csv.taxonomy, csv.heuristic, csv.detectors, csv.distance\n",
    "FROM xml\n",
    "JOIN csv ON xml.rn = csv.rn;\n",
    "\"\"\")"
   ]
  },
  {
   "cell_type": "code",
   "execution_count": 42,
   "id": "7d0a0353",
   "metadata": {},
   "outputs": [
    {
     "data": {
      "text/plain": [
       "┌───────┬────────────┬────────────┬────────────┬────────────┬─────────────────┬──────────┬─────────────────┬──────────┬─────────┬───────────────┬───────────┬───────────┬──────────┐\n",
       "│  rn   │ anomaly_id │   label    │   start    │    stop    │     src_ip      │ src_port │     dst_ip      │ dst_port │  proto  │   taxonomy    │ heuristic │ detectors │ distance │\n",
       "│ int64 │   uint16   │  varchar   │   uint32   │   uint32   │     varchar     │ varchar  │     varchar     │  uint16  │ varchar │    varchar    │  double   │   uint8   │  double  │\n",
       "├───────┼────────────┼────────────┼────────────┼────────────┼─────────────────┼──────────┼─────────────────┼──────────┼─────────┼───────────────┼───────────┼───────────┼──────────┤\n",
       "│     1 │          0 │ anomalous  │       NULL │       NULL │ 77.27.92.100    │ 5072     │ 202.65.57.232   │     NULL │ NULL    │ ptpposcaUDP   │   0.72041 │        10 │     NULL │\n",
       "│     2 │          1 │ anomalous  │       NULL │       NULL │ 203.178.149.55  │ NULL     │ 206.215.228.128 │     NULL │ NULL    │ ipv4gretun    │   0.35983 │         6 │     NULL │\n",
       "│     3 │          1 │ anomalous  │       NULL │       NULL │ 203.178.149.55  │ NULL     │ 204.167.201.110 │     NULL │ NULL    │ ipv4gretun    │   0.35983 │         6 │     NULL │\n",
       "│     4 │          2 │ anomalous  │       NULL │       NULL │ NULL            │ 443      │ 163.218.81.24   │     NULL │ NULL    │ mptpla        │    0.3209 │         5 │     NULL │\n",
       "│     5 │          3 │ anomalous  │       NULL │       NULL │ NULL            │ 443      │ 163.218.101.211 │     NULL │ NULL    │ mptp          │   0.12564 │         4 │     NULL │\n",
       "│     6 │          3 │ anomalous  │       NULL │       NULL │ 168.244.34.4    │ 80       │ 163.218.101.211 │     NULL │ NULL    │ mptp          │   0.12564 │         4 │     NULL │\n",
       "│     7 │          4 │ anomalous  │       NULL │       NULL │ 94.8.39.150     │ NULL     │ NULL            │     NULL │ NULL    │ mptmp         │   0.50736 │         8 │     NULL │\n",
       "│     8 │          4 │ anomalous  │       NULL │       NULL │ 91.224.236.218  │ NULL     │ NULL            │     NULL │ NULL    │ mptmp         │   0.50736 │         8 │     NULL │\n",
       "│     9 │          5 │ anomalous  │       NULL │       NULL │ NULL            │ 443      │ 163.218.193.161 │     NULL │ NULL    │ mptp          │   0.49209 │         7 │     NULL │\n",
       "│    10 │          6 │ anomalous  │       NULL │       NULL │ 104.222.116.211 │ NULL     │ NULL            │     NULL │ NULL    │ ptmp          │   0.13733 │         6 │     NULL │\n",
       "│     · │          · │     ·      │         ·  │         ·  │      ·          │  ·       │  ·              │       ·  │  ·      │  ·            │      ·    │         · │       ·  │\n",
       "│     · │          · │     ·      │         ·  │         ·  │      ·          │  ·       │  ·              │       ·  │  ·      │  ·            │      ·    │         · │       ·  │\n",
       "│     · │          · │     ·      │         ·  │         ·  │      ·          │  ·       │  ·              │       ·  │  ·      │  ·            │      ·    │         · │       ·  │\n",
       "│   261 │        194 │ suspicious │       NULL │       NULL │ 213.0.58.80     │ NULL     │ NULL            │      443 │ NULL    │ sntscSYN      │  -0.18524 │         2 │     NULL │\n",
       "│   264 │        196 │ suspicious │       NULL │       NULL │ NULL            │ NULL     │ 163.218.131.126 │       25 │ NULL    │ mptmp         │    -0.216 │         3 │     NULL │\n",
       "│   273 │        204 │ suspicious │       NULL │       NULL │ NULL            │ 443      │ 203.178.159.41  │     NULL │ NULL    │ mptmp         │    -0.216 │         3 │     NULL │\n",
       "│   285 │        210 │ suspicious │       NULL │       NULL │ 163.218.95.166  │ 3702     │ NULL            │     NULL │ NULL    │ mptmp         │    -0.216 │         3 │     NULL │\n",
       "│    53 │         29 │ anomalous  │       NULL │       NULL │ 106.203.171.71  │ 1901     │ NULL            │     1900 │ NULL    │ mptmp         │   0.54201 │         7 │     NULL │\n",
       "│   152 │        105 │ suspicious │ 1609650416 │ 1609650423 │ 42.33.92.222    │ NULL     │ NULL            │      445 │ NULL    │ ntscSYN139445 │  -0.08306 │         3 │     NULL │\n",
       "│   161 │        113 │ suspicious │ 1609650421 │ 1609650425 │ 27.122.206.176  │ NULL     │ NULL            │      445 │ NULL    │ ntscSYN139445 │  -0.08306 │         3 │     NULL │\n",
       "│   271 │        203 │ suspicious │       NULL │       NULL │ NULL            │ NULL     │ 202.239.6.59    │     NULL │ NULL    │ icmp_error    │  -0.18524 │         2 │     NULL │\n",
       "│    60 │         35 │ anomalous  │       NULL │       NULL │ 106.203.171.71  │ 1901     │ NULL            │     1900 │ NULL    │ ntscUDPOther  │   0.52517 │         7 │     NULL │\n",
       "│   147 │        101 │ suspicious │ 1609650001 │ 1609650818 │ NULL            │ NULL     │ 133.69.9.203    │       23 │ NULL    │ mptmp         │  -0.10044 │         4 │     NULL │\n",
       "├───────┴────────────┴────────────┴────────────┴────────────┴─────────────────┴──────────┴─────────────────┴──────────┴─────────┴───────────────┴───────────┴───────────┴──────────┤\n",
       "│ 291 rows (20 shown)                                                                                                                                                   14 columns │\n",
       "└──────────────────────────────────────────────────────────────────────────────────────────────────────────────────────────────────────────────────────────────────────────────────┘"
      ]
     },
     "execution_count": 42,
     "metadata": {},
     "output_type": "execute_result"
    }
   ],
   "source": [
    "duckdb.sql(\"FROM ANOMALOUS;\")"
   ]
  },
  {
   "cell_type": "code",
   "execution_count": 43,
   "id": "f5a9efb9",
   "metadata": {},
   "outputs": [
    {
     "data": {
      "text/plain": [
       "┌───────┬────────────┬─────────┬────────────┬────────────┬─────────────────┬──────────┬────────────────┬──────────┬─────────┬───────────────┬───────────┬───────────┬───────────┐\n",
       "│  rn   │ anomaly_id │  label  │   start    │    stop    │     src_ip      │ src_port │     dst_ip     │ dst_port │  proto  │   taxonomy    │ heuristic │ detectors │ distance  │\n",
       "│ int64 │   uint16   │ varchar │   uint32   │   uint32   │     varchar     │ varchar  │    varchar     │  uint16  │ varchar │    varchar    │  double   │   uint8   │  double   │\n",
       "├───────┼────────────┼─────────┼────────────┼────────────┼─────────────────┼──────────┼────────────────┼──────────┼─────────┼───────────────┼───────────┼───────────┼───────────┤\n",
       "│     1 │          0 │ notice  │ 1609650300 │ 1609650301 │ 163.218.120.23  │ NULL     │ 99.36.148.14   │      443 │ tcp     │ alphfl        │     504.0 │         1 │ -0.413337 │\n",
       "│     2 │          1 │ notice  │ 1609650672 │ 1609650679 │ 45.173.170.47   │ 44023    │ NULL           │     NULL │ NULL    │ ptmp          │      10.0 │         1 │ -0.413337 │\n",
       "│     3 │          1 │ notice  │ 1609650672 │ 1609650679 │ 45.173.170.47   │ 55414    │ NULL           │     NULL │ NULL    │ ptmp          │      10.0 │         1 │ -0.413337 │\n",
       "│     4 │          1 │ notice  │ 1609650672 │ 1609650679 │ 45.173.170.47   │ 43362    │ NULL           │     NULL │ NULL    │ ptmp          │      10.0 │         1 │ -0.413337 │\n",
       "│     5 │          2 │ notice  │ 1609650527 │ 1609650537 │ 58.214.59.218   │ NULL     │ NULL           │     1433 │ tcp     │ ntscSYN       │      10.0 │         1 │ -0.413337 │\n",
       "│     6 │          3 │ notice  │ 1609650773 │ 1609650776 │ 193.220.20.129  │ NULL     │ NULL           │     1433 │ NULL    │ ntscSYN       │      10.0 │         1 │ -0.413337 │\n",
       "│     7 │          4 │ notice  │ 1609650268 │ 1609650270 │ 116.155.45.36   │ NULL     │ NULL           │     1433 │ tcp     │ ntscSYN       │      10.0 │         1 │ -0.413337 │\n",
       "│     8 │          5 │ notice  │ 1609650860 │ 1609650861 │ 46.44.148.244   │ NULL     │ NULL           │     8291 │ tcp     │ ntscSYN       │      10.0 │         1 │ -0.413337 │\n",
       "│     9 │          6 │ notice  │ 1609650164 │ 1609650171 │ 204.167.201.110 │ NULL     │ NULL           │      445 │ tcp     │ ntscSYN139445 │      10.0 │         1 │ -0.413337 │\n",
       "│    10 │          7 │ notice  │ 1609650269 │ 1609650273 │ 222.65.178.225  │ NULL     │ NULL           │     NULL │ NULL    │ ntscSYN       │      10.0 │         1 │ -0.413337 │\n",
       "│     · │          · │   ·     │      ·     │      ·     │  ·              │  ·       │  ·             │       ·  │  ·      │    ·          │        ·  │         · │     ·     │\n",
       "│     · │          · │   ·     │      ·     │      ·     │  ·              │  ·       │  ·             │       ·  │  ·      │    ·          │        ·  │         · │     ·     │\n",
       "│     · │          · │   ·     │      ·     │      ·     │  ·              │  ·       │  ·             │       ·  │  ·      │    ·          │        ·  │         · │     ·     │\n",
       "│   161 │        154 │ notice  │ 1609650009 │ 1609650552 │ NULL            │ NULL     │ 61.53.226.222  │     NULL │ NULL    │ salphfl       │     504.0 │         1 │ -0.829122 │\n",
       "│   232 │        223 │ notice  │ 1609650003 │ 1609650732 │ 93.106.22.152   │ 59266    │ NULL           │       23 │ NULL    │ sntscSYN      │      10.0 │         1 │ -0.829122 │\n",
       "│   271 │        261 │ notice  │ 1609650002 │ 1609650825 │ 163.218.75.142  │ NULL     │ 138.43.130.115 │      443 │ NULL    │ salphfl       │     504.0 │         1 │ -0.829122 │\n",
       "│   311 │        295 │ notice  │       NULL │       NULL │ 163.218.101.211 │ NULL     │ NULL           │      443 │ NULL    │ ptmp          │     504.0 │         2 │ -0.548576 │\n",
       "│   340 │        316 │ notice  │       NULL │       NULL │ NULL            │ NULL     │ 202.86.243.199 │     1797 │ NULL    │ mptp          │     999.0 │         1 │ -0.478896 │\n",
       "│    60 │         56 │ notice  │ 1609650000 │ 1609650288 │ 167.224.146.241 │ NULL     │ NULL           │     NULL │ NULL    │ ptmp          │      10.0 │         1 │ -0.829122 │\n",
       "│   265 │        256 │ notice  │ 1609650000 │ 1609650826 │ 203.178.148.61  │ 53       │ NULL           │     NULL │ NULL    │ ptmp          │     999.0 │         1 │ -0.829122 │\n",
       "│    53 │         49 │ notice  │ 1609650000 │ 1609650265 │ NULL            │ NULL     │ 20.180.222.205 │     NULL │ NULL    │ mptp          │     504.0 │         1 │ -0.829122 │\n",
       "│   142 │        136 │ notice  │ 1609650000 │ 1609650558 │ 159.161.137.28  │ NULL     │ NULL           │     NULL │ NULL    │ sntscSYN      │      10.0 │         1 │ -0.829122 │\n",
       "│   147 │        141 │ notice  │ 1609650002 │ 1609650558 │ 129.212.202.237 │ NULL     │ NULL           │     NULL │ NULL    │ sntscSYN      │      10.0 │         1 │ -0.829122 │\n",
       "├───────┴────────────┴─────────┴────────────┴────────────┴─────────────────┴──────────┴────────────────┴──────────┴─────────┴───────────────┴───────────┴───────────┴───────────┤\n",
       "│ 355 rows (20 shown)                                                                                                                                                14 columns │\n",
       "└───────────────────────────────────────────────────────────────────────────────────────────────────────────────────────────────────────────────────────────────────────────────┘"
      ]
     },
     "execution_count": 43,
     "metadata": {},
     "output_type": "execute_result"
    }
   ],
   "source": [
    "duckdb.sql(\"FROM notice;\")"
   ]
  },
  {
   "cell_type": "code",
   "execution_count": 44,
   "id": "dab0eddd",
   "metadata": {},
   "outputs": [
    {
     "data": {
      "text/plain": [
       "┌────────────┬───────────┬────────────┬────────────┬─────────────────┬──────────┬─────────────────┬──────────┬─────────┬─────────────┬───────────┬───────────┬───────────┐\n",
       "│ anomaly_id │   label   │   start    │    stop    │     src_ip      │ src_port │     dst_ip      │ dst_port │  proto  │  taxonomy   │ heuristic │ detectors │ distance  │\n",
       "│   uint16   │  varchar  │   uint32   │   uint32   │     varchar     │ varchar  │     varchar     │  uint16  │ varchar │   varchar   │  double   │   uint8   │  double   │\n",
       "├────────────┼───────────┼────────────┼────────────┼─────────────────┼──────────┼─────────────────┼──────────┼─────────┼─────────────┼───────────┼───────────┼───────────┤\n",
       "│          0 │ anomalous │       NULL │       NULL │ 77.27.92.100    │ 5072     │ 202.65.57.232   │     NULL │ NULL    │ ptpposcaUDP │   0.72041 │        10 │      NULL │\n",
       "│          1 │ anomalous │       NULL │       NULL │ 203.178.149.55  │ NULL     │ 206.215.228.128 │     NULL │ NULL    │ ipv4gretun  │   0.35983 │         6 │      NULL │\n",
       "│          1 │ anomalous │       NULL │       NULL │ 203.178.149.55  │ NULL     │ 204.167.201.110 │     NULL │ NULL    │ ipv4gretun  │   0.35983 │         6 │      NULL │\n",
       "│          2 │ anomalous │       NULL │       NULL │ NULL            │ 443      │ 163.218.81.24   │     NULL │ NULL    │ mptpla      │    0.3209 │         5 │      NULL │\n",
       "│          3 │ anomalous │       NULL │       NULL │ NULL            │ 443      │ 163.218.101.211 │     NULL │ NULL    │ mptp        │   0.12564 │         4 │      NULL │\n",
       "│          3 │ anomalous │       NULL │       NULL │ 168.244.34.4    │ 80       │ 163.218.101.211 │     NULL │ NULL    │ mptp        │   0.12564 │         4 │      NULL │\n",
       "│          4 │ anomalous │       NULL │       NULL │ 94.8.39.150     │ NULL     │ NULL            │     NULL │ NULL    │ mptmp       │   0.50736 │         8 │      NULL │\n",
       "│          4 │ anomalous │       NULL │       NULL │ 91.224.236.218  │ NULL     │ NULL            │     NULL │ NULL    │ mptmp       │   0.50736 │         8 │      NULL │\n",
       "│          5 │ anomalous │       NULL │       NULL │ NULL            │ 443      │ 163.218.193.161 │     NULL │ NULL    │ mptp        │   0.49209 │         7 │      NULL │\n",
       "│          6 │ anomalous │       NULL │       NULL │ 104.222.116.211 │ NULL     │ NULL            │     NULL │ NULL    │ ptmp        │   0.13733 │         6 │      NULL │\n",
       "│          · │   ·       │         ·  │         ·  │  ·              │  ·       │  ·              │       ·  │  ·      │  ·          │       ·   │         · │        ·  │\n",
       "│          · │   ·       │         ·  │         ·  │  ·              │  ·       │  ·              │       ·  │  ·      │  ·          │       ·   │         · │        ·  │\n",
       "│          · │   ·       │         ·  │         ·  │  ·              │  ·       │  ·              │       ·  │  ·      │  ·          │       ·   │         · │        ·  │\n",
       "│        154 │ notice    │ 1609650009 │ 1609650552 │ NULL            │ NULL     │ 61.53.226.222   │     NULL │ NULL    │ salphfl     │     504.0 │         1 │ -0.829122 │\n",
       "│        223 │ notice    │ 1609650003 │ 1609650732 │ 93.106.22.152   │ 59266    │ NULL            │       23 │ NULL    │ sntscSYN    │      10.0 │         1 │ -0.829122 │\n",
       "│        261 │ notice    │ 1609650002 │ 1609650825 │ 163.218.75.142  │ NULL     │ 138.43.130.115  │      443 │ NULL    │ salphfl     │     504.0 │         1 │ -0.829122 │\n",
       "│        295 │ notice    │       NULL │       NULL │ 163.218.101.211 │ NULL     │ NULL            │      443 │ NULL    │ ptmp        │     504.0 │         2 │ -0.548576 │\n",
       "│        316 │ notice    │       NULL │       NULL │ NULL            │ NULL     │ 202.86.243.199  │     1797 │ NULL    │ mptp        │     999.0 │         1 │ -0.478896 │\n",
       "│         56 │ notice    │ 1609650000 │ 1609650288 │ 167.224.146.241 │ NULL     │ NULL            │     NULL │ NULL    │ ptmp        │      10.0 │         1 │ -0.829122 │\n",
       "│        256 │ notice    │ 1609650000 │ 1609650826 │ 203.178.148.61  │ 53       │ NULL            │     NULL │ NULL    │ ptmp        │     999.0 │         1 │ -0.829122 │\n",
       "│         49 │ notice    │ 1609650000 │ 1609650265 │ NULL            │ NULL     │ 20.180.222.205  │     NULL │ NULL    │ mptp        │     504.0 │         1 │ -0.829122 │\n",
       "│        136 │ notice    │ 1609650000 │ 1609650558 │ 159.161.137.28  │ NULL     │ NULL            │     NULL │ NULL    │ sntscSYN    │      10.0 │         1 │ -0.829122 │\n",
       "│        141 │ notice    │ 1609650002 │ 1609650558 │ 129.212.202.237 │ NULL     │ NULL            │     NULL │ NULL    │ sntscSYN    │      10.0 │         1 │ -0.829122 │\n",
       "├────────────┴───────────┴────────────┴────────────┴─────────────────┴──────────┴─────────────────┴──────────┴─────────┴─────────────┴───────────┴───────────┴───────────┤\n",
       "│ 646 rows (20 shown)                                                                                                                                         13 columns │\n",
       "└────────────────────────────────────────────────────────────────────────────────────────────────────────────────────────────────────────────────────────────────────────┘"
      ]
     },
     "execution_count": 44,
     "metadata": {},
     "output_type": "execute_result"
    }
   ],
   "source": [
    "duckdb.sql(\"\"\"\n",
    "SELECT * EXCLUDE rn FROM anomalous\n",
    "UNION ALL\n",
    "SELECT * EXCLUDE rn FROM notice;\n",
    "\"\"\")"
   ]
  },
  {
   "cell_type": "code",
   "execution_count": null,
   "id": "57e3d198",
   "metadata": {},
   "outputs": [],
   "source": []
  }
 ],
 "metadata": {
  "kernelspec": {
   "display_name": "Python 3 (ipykernel)",
   "language": "python",
   "name": "python3"
  },
  "language_info": {
   "codemirror_mode": {
    "name": "ipython",
    "version": 3
   },
   "file_extension": ".py",
   "mimetype": "text/x-python",
   "name": "python",
   "nbconvert_exporter": "python",
   "pygments_lexer": "ipython3",
   "version": "3.12.9"
  }
 },
 "nbformat": 4,
 "nbformat_minor": 5
}
